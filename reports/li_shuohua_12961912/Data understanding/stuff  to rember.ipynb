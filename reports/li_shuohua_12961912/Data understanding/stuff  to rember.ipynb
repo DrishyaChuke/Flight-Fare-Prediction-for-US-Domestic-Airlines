{
 "cells": [
  {
   "cell_type": "code",
   "execution_count": null,
   "id": "4b2d699c-82a9-4540-84b5-dd330d0c85c6",
   "metadata": {},
   "outputs": [],
   "source": [
    "# Drop these columns as they are not useful\n",
    "df = df.drop(columns=[\n",
    "    'legId', \n",
    "    'searchDate',\n",
    "    'isBasicEconomy',\n",
    "    'isBasicEconomy',\n",
    "    'segmentsEquipmentDescription',\n",
    "    'segmentsAirlineCode',\n",
    "    'segmentsAirlineName',\n",
    "    'isRefundable',\n",
    "    '\n",
    "])"
   ]
  },
  {
   "cell_type": "code",
   "execution_count": null,
   "id": "094edc61-a9a7-4f76-a149-bcaa90f370a9",
   "metadata": {},
   "outputs": [],
   "source": [
    "df_airport['segmentsArrivalAirportCode'] = df_airport['segmentsArrivalAirportCode'].apply(lambda x: x.split('||')[-1])\n"
   ]
  },
  {
   "cell_type": "code",
   "execution_count": null,
   "id": "01b7df38-5d7e-4533-bd10-df505610fe70",
   "metadata": {},
   "outputs": [],
   "source": [
    "# Extract day, month, hour, and minute into new columns\n",
    "df_dep_date['day'] = df_dep_date['segmentsDepartureTimeRaw'].dt.day\n",
    "df_dep_date['month'] = df_dep_date['segmentsDepartureTimeRaw'].dt.month\n",
    "df_dep_date['hour'] = df_dep_date['segmentsDepartureTimeRaw'].dt.hour\n",
    "df_dep_date['minute'] = df_dep_date['segmentsDepartureTimeRaw'].dt.minute\n"
   ]
  },
  {
   "cell_type": "markdown",
   "id": "baae82a8-34ae-4a67-bb0d-474d04c7c0c3",
   "metadata": {},
   "source": [
    "# Things to encode. "
   ]
  },
  {
   "cell_type": "markdown",
   "id": "eea54683-36b5-4bbb-8841-8fb4c2c89faf",
   "metadata": {},
   "source": []
  }
 ],
 "metadata": {
  "kernelspec": {
   "display_name": "Python 3 (ipykernel)",
   "language": "python",
   "name": "python3"
  },
  "language_info": {
   "codemirror_mode": {
    "name": "ipython",
    "version": 3
   },
   "file_extension": ".py",
   "mimetype": "text/x-python",
   "name": "python",
   "nbconvert_exporter": "python",
   "pygments_lexer": "ipython3",
   "version": "3.11.4"
  }
 },
 "nbformat": 4,
 "nbformat_minor": 5
}
