{
 "cells": [
  {
   "cell_type": "code",
   "execution_count": 2,
   "id": "4741ef91",
   "metadata": {},
   "outputs": [
    {
     "name": "stderr",
     "output_type": "stream",
     "text": [
      "/Users/vega7unk/anaconda3/lib/python3.11/site-packages/pandas/core/arrays/masked.py:60: UserWarning: Pandas requires version '1.3.6' or newer of 'bottleneck' (version '1.3.5' currently installed).\n",
      "  from pandas.core import (\n"
     ]
    }
   ],
   "source": [
    "import zipfile\n",
    "import os\n",
    "import pandas as pd\n",
    "import numpy"
   ]
  },
  {
   "cell_type": "code",
   "execution_count": 3,
   "id": "480e824a",
   "metadata": {},
   "outputs": [
    {
     "name": "stdout",
     "output_type": "stream",
     "text": [
      "Final combined dataset saved as /Users/vega7unk/Documents/3rd_Sem_DSI/Adv_ML/AT3/at_3/adv_mla_at3/data/combined_output_25%.csv.\n"
     ]
    }
   ],
   "source": [
    "# Directory containing the merged CSV files\n",
    "merged_data_dir = '/Users/vega7unk/Documents/3rd_Sem_DSI/Adv_ML/AT3/at_3/adv_mla_at3/data/processed'\n",
    "# Define the output file where the final combined dataset will be saved\n",
    "output_combined_csv = '/Users/vega7unk/Documents/3rd_Sem_DSI/Adv_ML/AT3/at_3/adv_mla_at3/data/combined_output_25%.csv'\n",
    "\n",
    "# List to store DataFrames from chunks\n",
    "combined_chunks = []\n",
    "\n",
    "# Loop through each merged dataset in the directory\n",
    "for merged_file in os.listdir(merged_data_dir):\n",
    "    if merged_file.endswith('.csv'):\n",
    "        # Full path to the merged CSV file\n",
    "        merged_file_path = os.path.join(merged_data_dir, merged_file)\n",
    "        \n",
    "        # Load the dataset in chunks\n",
    "        for chunk in pd.read_csv(merged_file_path, chunksize=15000):  # Adjust chunksize as needed\n",
    "            # Sample a portion of each chunk (e.g., 10% of rows)\n",
    "            sampled_chunk = chunk.sample(frac=0.1, random_state=42)  # Adjust fraction as needed\n",
    "            combined_chunks.append(sampled_chunk)\n",
    "            # Break after reading one chunk (optional)\n",
    "            break\n",
    "\n",
    "# Concatenate all sampled chunks into a single DataFrame\n",
    "final_combined_data = pd.concat(combined_chunks, ignore_index=True)\n",
    "\n",
    "# Save the combined dataset to a new CSV file\n",
    "final_combined_data.to_csv(output_combined_csv, index=False)\n",
    "\n",
    "print(f\"Final combined dataset saved as {output_combined_csv}.\")"
   ]
  },
  {
   "cell_type": "code",
   "execution_count": null,
   "id": "fcce661f",
   "metadata": {},
   "outputs": [],
   "source": []
  }
 ],
 "metadata": {
  "kernelspec": {
   "display_name": "Python 3 (ipykernel)",
   "language": "python",
   "name": "python3"
  },
  "language_info": {
   "codemirror_mode": {
    "name": "ipython",
    "version": 3
   },
   "file_extension": ".py",
   "mimetype": "text/x-python",
   "name": "python",
   "nbconvert_exporter": "python",
   "pygments_lexer": "ipython3",
   "version": "3.11.3"
  }
 },
 "nbformat": 4,
 "nbformat_minor": 5
}
