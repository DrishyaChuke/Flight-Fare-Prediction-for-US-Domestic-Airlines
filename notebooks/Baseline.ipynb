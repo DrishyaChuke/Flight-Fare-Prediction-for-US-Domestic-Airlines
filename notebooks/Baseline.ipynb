{
 "cells": [
  {
   "cell_type": "code",
   "execution_count": 1,
   "id": "ccaf0627",
   "metadata": {},
   "outputs": [
    {
     "name": "stderr",
     "output_type": "stream",
     "text": [
      "/Users/vega7unk/anaconda3/lib/python3.11/site-packages/pandas/core/arrays/masked.py:60: UserWarning: Pandas requires version '1.3.6' or newer of 'bottleneck' (version '1.3.5' currently installed).\n",
      "  from pandas.core import (\n"
     ]
    }
   ],
   "source": [
    "import pandas as pd\n",
    "import numpy\n",
    "from sklearn.preprocessing import LabelEncoder\n",
    "from sklearn.preprocessing import StandardScaler"
   ]
  },
  {
   "cell_type": "code",
   "execution_count": 2,
   "id": "4c9f61c1",
   "metadata": {},
   "outputs": [
    {
     "name": "stdout",
     "output_type": "stream",
     "text": [
      "Looking in indexes: https://test.pypi.org/simple/\n",
      "Requirement already satisfied: my_krml_25076922==2024.0.3.4 in /Users/vega7unk/anaconda3/lib/python3.11/site-packages (2024.0.3.4)\n",
      "Requirement already satisfied: pandas==2.2.2 in /Users/vega7unk/anaconda3/lib/python3.11/site-packages (from my_krml_25076922==2024.0.3.4) (2.2.2)\n",
      "Requirement already satisfied: scikit-learn==1.5.1 in /Users/vega7unk/anaconda3/lib/python3.11/site-packages (from my_krml_25076922==2024.0.3.4) (1.5.1)\n",
      "Requirement already satisfied: tqdm<5.0.0,>=4.0.0 in /Users/vega7unk/anaconda3/lib/python3.11/site-packages (from my_krml_25076922==2024.0.3.4) (4.65.0)\n",
      "Requirement already satisfied: numpy>=1.23.2 in /Users/vega7unk/anaconda3/lib/python3.11/site-packages (from pandas==2.2.2->my_krml_25076922==2024.0.3.4) (1.24.3)\n",
      "Requirement already satisfied: python-dateutil>=2.8.2 in /Users/vega7unk/anaconda3/lib/python3.11/site-packages (from pandas==2.2.2->my_krml_25076922==2024.0.3.4) (2.8.2)\n",
      "Requirement already satisfied: pytz>=2020.1 in /Users/vega7unk/anaconda3/lib/python3.11/site-packages (from pandas==2.2.2->my_krml_25076922==2024.0.3.4) (2022.7)\n",
      "Requirement already satisfied: tzdata>=2022.7 in /Users/vega7unk/anaconda3/lib/python3.11/site-packages (from pandas==2.2.2->my_krml_25076922==2024.0.3.4) (2023.3)\n",
      "Requirement already satisfied: scipy>=1.6.0 in /Users/vega7unk/anaconda3/lib/python3.11/site-packages (from scikit-learn==1.5.1->my_krml_25076922==2024.0.3.4) (1.11.1)\n",
      "Requirement already satisfied: joblib>=1.2.0 in /Users/vega7unk/anaconda3/lib/python3.11/site-packages (from scikit-learn==1.5.1->my_krml_25076922==2024.0.3.4) (1.2.0)\n",
      "Requirement already satisfied: threadpoolctl>=3.1.0 in /Users/vega7unk/anaconda3/lib/python3.11/site-packages (from scikit-learn==1.5.1->my_krml_25076922==2024.0.3.4) (3.5.0)\n",
      "Requirement already satisfied: six>=1.5 in /Users/vega7unk/anaconda3/lib/python3.11/site-packages (from python-dateutil>=2.8.2->pandas==2.2.2->my_krml_25076922==2024.0.3.4) (1.16.0)\n",
      "Note: you may need to restart the kernel to use updated packages.\n"
     ]
    }
   ],
   "source": [
    "pip install -i https://test.pypi.org/simple/ my_krml_25076922==2024.0.3.4"
   ]
  },
  {
   "cell_type": "code",
   "execution_count": 3,
   "id": "287ab9df",
   "metadata": {},
   "outputs": [],
   "source": [
    "pd.set_option('display.max_columns', None)\n",
    "df = pd.read_csv('/Users/vega7unk/Documents/3rd_Sem_DSI/Adv_ML/AT3/at_3/adv_mla_at3/data/df_cleaned_num.csv')"
   ]
  },
  {
   "cell_type": "code",
   "execution_count": 4,
   "id": "3853d8bd",
   "metadata": {},
   "outputs": [
    {
     "data": {
      "text/html": [
       "<div>\n",
       "<style scoped>\n",
       "    .dataframe tbody tr th:only-of-type {\n",
       "        vertical-align: middle;\n",
       "    }\n",
       "\n",
       "    .dataframe tbody tr th {\n",
       "        vertical-align: top;\n",
       "    }\n",
       "\n",
       "    .dataframe thead th {\n",
       "        text-align: right;\n",
       "    }\n",
       "</style>\n",
       "<table border=\"1\" class=\"dataframe\">\n",
       "  <thead>\n",
       "    <tr style=\"text-align: right;\">\n",
       "      <th></th>\n",
       "      <th>totalTravelDistance</th>\n",
       "      <th>totalFare</th>\n",
       "      <th>travelDurationHours</th>\n",
       "      <th>numSegments</th>\n",
       "      <th>daysUntilDeparture</th>\n",
       "      <th>startingAirport_encoded</th>\n",
       "      <th>destinationAirport_encoded</th>\n",
       "      <th>isNonStop_encoded</th>\n",
       "      <th>isBasicEconomy_encoded</th>\n",
       "      <th>isRefundable_encoded</th>\n",
       "      <th>cabinType_encoded</th>\n",
       "      <th>timeBlock_encoded</th>\n",
       "    </tr>\n",
       "  </thead>\n",
       "  <tbody>\n",
       "    <tr>\n",
       "      <th>0</th>\n",
       "      <td>3310.0</td>\n",
       "      <td>620.10</td>\n",
       "      <td>11.566667</td>\n",
       "      <td>3</td>\n",
       "      <td>17</td>\n",
       "      <td>12</td>\n",
       "      <td>10</td>\n",
       "      <td>0</td>\n",
       "      <td>0</td>\n",
       "      <td>0</td>\n",
       "      <td>1</td>\n",
       "      <td>0</td>\n",
       "    </tr>\n",
       "    <tr>\n",
       "      <th>1</th>\n",
       "      <td>3438.0</td>\n",
       "      <td>1301.10</td>\n",
       "      <td>16.083333</td>\n",
       "      <td>3</td>\n",
       "      <td>55</td>\n",
       "      <td>12</td>\n",
       "      <td>6</td>\n",
       "      <td>0</td>\n",
       "      <td>0</td>\n",
       "      <td>0</td>\n",
       "      <td>1</td>\n",
       "      <td>3</td>\n",
       "    </tr>\n",
       "    <tr>\n",
       "      <th>2</th>\n",
       "      <td>2335.0</td>\n",
       "      <td>537.20</td>\n",
       "      <td>13.933333</td>\n",
       "      <td>2</td>\n",
       "      <td>58</td>\n",
       "      <td>12</td>\n",
       "      <td>4</td>\n",
       "      <td>0</td>\n",
       "      <td>0</td>\n",
       "      <td>0</td>\n",
       "      <td>1</td>\n",
       "      <td>0</td>\n",
       "    </tr>\n",
       "    <tr>\n",
       "      <th>3</th>\n",
       "      <td>1689.0</td>\n",
       "      <td>567.00</td>\n",
       "      <td>8.433333</td>\n",
       "      <td>2</td>\n",
       "      <td>33</td>\n",
       "      <td>12</td>\n",
       "      <td>3</td>\n",
       "      <td>0</td>\n",
       "      <td>0</td>\n",
       "      <td>0</td>\n",
       "      <td>1</td>\n",
       "      <td>1</td>\n",
       "    </tr>\n",
       "    <tr>\n",
       "      <th>4</th>\n",
       "      <td>2556.0</td>\n",
       "      <td>866.71</td>\n",
       "      <td>14.550000</td>\n",
       "      <td>3</td>\n",
       "      <td>53</td>\n",
       "      <td>12</td>\n",
       "      <td>14</td>\n",
       "      <td>0</td>\n",
       "      <td>0</td>\n",
       "      <td>0</td>\n",
       "      <td>1</td>\n",
       "      <td>0</td>\n",
       "    </tr>\n",
       "  </tbody>\n",
       "</table>\n",
       "</div>"
      ],
      "text/plain": [
       "   totalTravelDistance  totalFare  travelDurationHours  numSegments  \\\n",
       "0               3310.0     620.10            11.566667            3   \n",
       "1               3438.0    1301.10            16.083333            3   \n",
       "2               2335.0     537.20            13.933333            2   \n",
       "3               1689.0     567.00             8.433333            2   \n",
       "4               2556.0     866.71            14.550000            3   \n",
       "\n",
       "   daysUntilDeparture  startingAirport_encoded  destinationAirport_encoded  \\\n",
       "0                  17                       12                          10   \n",
       "1                  55                       12                           6   \n",
       "2                  58                       12                           4   \n",
       "3                  33                       12                           3   \n",
       "4                  53                       12                          14   \n",
       "\n",
       "   isNonStop_encoded  isBasicEconomy_encoded  isRefundable_encoded  \\\n",
       "0                  0                       0                     0   \n",
       "1                  0                       0                     0   \n",
       "2                  0                       0                     0   \n",
       "3                  0                       0                     0   \n",
       "4                  0                       0                     0   \n",
       "\n",
       "   cabinType_encoded  timeBlock_encoded  \n",
       "0                  1                  0  \n",
       "1                  1                  3  \n",
       "2                  1                  0  \n",
       "3                  1                  1  \n",
       "4                  1                  0  "
      ]
     },
     "execution_count": 4,
     "metadata": {},
     "output_type": "execute_result"
    }
   ],
   "source": [
    "df.head()"
   ]
  },
  {
   "cell_type": "code",
   "execution_count": 5,
   "id": "705b1dbf",
   "metadata": {},
   "outputs": [],
   "source": [
    "df_cleaned = df.copy()"
   ]
  },
  {
   "cell_type": "code",
   "execution_count": 6,
   "id": "b6f16b6e",
   "metadata": {},
   "outputs": [],
   "source": [
    "from my_krml_25076922.data.sets import pop_target\n",
    "\n",
    "features, target = pop_target(df_cleaned, 'totalFare')"
   ]
  },
  {
   "cell_type": "code",
   "execution_count": 7,
   "id": "cb562503",
   "metadata": {},
   "outputs": [],
   "source": [
    "scaler = StandardScaler()\n",
    "\n",
    "features = pd.DataFrame(scaler.fit_transform(features), columns=features.columns)"
   ]
  },
  {
   "cell_type": "code",
   "execution_count": 8,
   "id": "a8fb0958",
   "metadata": {},
   "outputs": [
    {
     "data": {
      "text/plain": [
       "['/Users/vega7unk/Documents/3rd_Sem_DSI/Adv_ML/AT3/at_3/adv_mla_at3/models/baseline_scaler.joblib']"
      ]
     },
     "execution_count": 8,
     "metadata": {},
     "output_type": "execute_result"
    }
   ],
   "source": [
    "from joblib import dump\n",
    "\n",
    "dump(scaler, '/Users/vega7unk/Documents/3rd_Sem_DSI/Adv_ML/AT3/at_3/adv_mla_at3/models/baseline_scaler.joblib')"
   ]
  },
  {
   "cell_type": "code",
   "execution_count": 9,
   "id": "5e2eb898",
   "metadata": {},
   "outputs": [],
   "source": [
    "from my_krml_25076922.data.sets import split_sets_random\n",
    "\n",
    "X_train, y_train, X_val, y_val, X_test, y_test = split_sets_random(features, target, test_ratio=0.2)"
   ]
  },
  {
   "cell_type": "code",
   "execution_count": 10,
   "id": "20c3b71e",
   "metadata": {},
   "outputs": [
    {
     "name": "stdout",
     "output_type": "stream",
     "text": [
      "(13371, 11)\n",
      "(4457, 11)\n",
      "(4458, 11)\n"
     ]
    }
   ],
   "source": [
    "print(X_train.shape)\n",
    "print(X_val.shape)\n",
    "print(X_test.shape)"
   ]
  },
  {
   "cell_type": "code",
   "execution_count": 11,
   "id": "fa417d1e",
   "metadata": {},
   "outputs": [
    {
     "name": "stdout",
     "output_type": "stream",
     "text": [
      "(13371,)\n",
      "(4457,)\n",
      "(4458,)\n"
     ]
    }
   ],
   "source": [
    "print(y_train.shape)\n",
    "print(y_val.shape)\n",
    "print(y_test.shape)"
   ]
  },
  {
   "cell_type": "code",
   "execution_count": 12,
   "id": "2a47b407",
   "metadata": {},
   "outputs": [],
   "source": [
    "from my_krml_25076922.data.sets import save_sets\n",
    "\n",
    "save_sets(X_train, y_train, X_val, y_val, X_test, y_test, path='/Users/vega7unk/Documents/3rd_Sem_DSI/Adv_ML/AT3/at_3/adv_mla_at3/data/processed/')"
   ]
  },
  {
   "cell_type": "code",
   "execution_count": 13,
   "id": "17f16bd5",
   "metadata": {},
   "outputs": [],
   "source": [
    "from my_krml_25076922.models.null import NullRegressor\n",
    "\n",
    "base_model = NullRegressor()"
   ]
  },
  {
   "cell_type": "code",
   "execution_count": 14,
   "id": "78536bcb",
   "metadata": {},
   "outputs": [],
   "source": [
    "y_base = base_model.fit_predict(y_train)"
   ]
  },
  {
   "cell_type": "code",
   "execution_count": 15,
   "id": "a7df6de1",
   "metadata": {},
   "outputs": [
    {
     "name": "stdout",
     "output_type": "stream",
     "text": [
      "RMSE Training: 213.7645707818858\n",
      "MAE Training: 158.43557313054166\n"
     ]
    }
   ],
   "source": [
    "from my_krml_25076922.models.performance import print_regressor_scores\n",
    "\n",
    "print_regressor_scores(y_preds=y_base, y_actuals=y_train, set_name='Training')"
   ]
  }
 ],
 "metadata": {
  "kernelspec": {
   "display_name": "Python 3 (ipykernel)",
   "language": "python",
   "name": "python3"
  },
  "language_info": {
   "codemirror_mode": {
    "name": "ipython",
    "version": 3
   },
   "file_extension": ".py",
   "mimetype": "text/x-python",
   "name": "python",
   "nbconvert_exporter": "python",
   "pygments_lexer": "ipython3",
   "version": "3.11.3"
  }
 },
 "nbformat": 4,
 "nbformat_minor": 5
}
