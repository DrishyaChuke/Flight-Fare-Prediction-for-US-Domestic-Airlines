{
 "cells": [
  {
   "cell_type": "code",
   "execution_count": 1,
   "id": "08ad9ce5",
   "metadata": {},
   "outputs": [
    {
     "name": "stderr",
     "output_type": "stream",
     "text": [
      "/Users/vega7unk/anaconda3/lib/python3.11/site-packages/pandas/core/arrays/masked.py:60: UserWarning: Pandas requires version '1.3.6' or newer of 'bottleneck' (version '1.3.5' currently installed).\n",
      "  from pandas.core import (\n"
     ]
    }
   ],
   "source": [
    "import pandas as pd\n",
    "import numpy"
   ]
  },
  {
   "cell_type": "code",
   "execution_count": 2,
   "id": "ff9b0479",
   "metadata": {
    "scrolled": true
   },
   "outputs": [
    {
     "name": "stdout",
     "output_type": "stream",
     "text": [
      "Looking in indexes: https://test.pypi.org/simple/\n",
      "Requirement already satisfied: my_krml_25076922==2024.0.3.4 in /Users/vega7unk/anaconda3/lib/python3.11/site-packages (2024.0.3.4)\n",
      "Requirement already satisfied: pandas==2.2.2 in /Users/vega7unk/anaconda3/lib/python3.11/site-packages (from my_krml_25076922==2024.0.3.4) (2.2.2)\n",
      "Requirement already satisfied: scikit-learn==1.5.1 in /Users/vega7unk/anaconda3/lib/python3.11/site-packages (from my_krml_25076922==2024.0.3.4) (1.5.1)\n",
      "Requirement already satisfied: tqdm<5.0.0,>=4.0.0 in /Users/vega7unk/anaconda3/lib/python3.11/site-packages (from my_krml_25076922==2024.0.3.4) (4.65.0)\n",
      "Requirement already satisfied: numpy>=1.23.2 in /Users/vega7unk/anaconda3/lib/python3.11/site-packages (from pandas==2.2.2->my_krml_25076922==2024.0.3.4) (1.24.3)\n",
      "Requirement already satisfied: python-dateutil>=2.8.2 in /Users/vega7unk/anaconda3/lib/python3.11/site-packages (from pandas==2.2.2->my_krml_25076922==2024.0.3.4) (2.8.2)\n",
      "Requirement already satisfied: pytz>=2020.1 in /Users/vega7unk/anaconda3/lib/python3.11/site-packages (from pandas==2.2.2->my_krml_25076922==2024.0.3.4) (2022.7)\n",
      "Requirement already satisfied: tzdata>=2022.7 in /Users/vega7unk/anaconda3/lib/python3.11/site-packages (from pandas==2.2.2->my_krml_25076922==2024.0.3.4) (2023.3)\n",
      "Requirement already satisfied: scipy>=1.6.0 in /Users/vega7unk/anaconda3/lib/python3.11/site-packages (from scikit-learn==1.5.1->my_krml_25076922==2024.0.3.4) (1.11.1)\n",
      "Requirement already satisfied: joblib>=1.2.0 in /Users/vega7unk/anaconda3/lib/python3.11/site-packages (from scikit-learn==1.5.1->my_krml_25076922==2024.0.3.4) (1.2.0)\n",
      "Requirement already satisfied: threadpoolctl>=3.1.0 in /Users/vega7unk/anaconda3/lib/python3.11/site-packages (from scikit-learn==1.5.1->my_krml_25076922==2024.0.3.4) (3.5.0)\n",
      "Requirement already satisfied: six>=1.5 in /Users/vega7unk/anaconda3/lib/python3.11/site-packages (from python-dateutil>=2.8.2->pandas==2.2.2->my_krml_25076922==2024.0.3.4) (1.16.0)\n",
      "Note: you may need to restart the kernel to use updated packages.\n"
     ]
    }
   ],
   "source": [
    "pip install -i https://test.pypi.org/simple/ my_krml_25076922==2024.0.3.4"
   ]
  },
  {
   "cell_type": "code",
   "execution_count": 3,
   "id": "64e81d30",
   "metadata": {},
   "outputs": [],
   "source": [
    "pd.set_option('display.max_columns', None)\n",
    "df = pd.read_csv('/Users/vega7unk/Documents/3rd_Sem_DSI/Adv_ML/AT3/at_3/adv_mla_at3/data/df_cleaned_num.csv')"
   ]
  },
  {
   "cell_type": "code",
   "execution_count": 4,
   "id": "50ce5c66",
   "metadata": {},
   "outputs": [
    {
     "data": {
      "text/html": [
       "<div>\n",
       "<style scoped>\n",
       "    .dataframe tbody tr th:only-of-type {\n",
       "        vertical-align: middle;\n",
       "    }\n",
       "\n",
       "    .dataframe tbody tr th {\n",
       "        vertical-align: top;\n",
       "    }\n",
       "\n",
       "    .dataframe thead th {\n",
       "        text-align: right;\n",
       "    }\n",
       "</style>\n",
       "<table border=\"1\" class=\"dataframe\">\n",
       "  <thead>\n",
       "    <tr style=\"text-align: right;\">\n",
       "      <th></th>\n",
       "      <th>totalTravelDistance</th>\n",
       "      <th>totalFare</th>\n",
       "      <th>travelDurationHours</th>\n",
       "      <th>numSegments</th>\n",
       "      <th>daysUntilDeparture</th>\n",
       "      <th>startingAirport_encoded</th>\n",
       "      <th>destinationAirport_encoded</th>\n",
       "      <th>isNonStop_encoded</th>\n",
       "      <th>isBasicEconomy_encoded</th>\n",
       "      <th>isRefundable_encoded</th>\n",
       "      <th>cabinType_encoded</th>\n",
       "      <th>timeBlock_encoded</th>\n",
       "    </tr>\n",
       "  </thead>\n",
       "  <tbody>\n",
       "    <tr>\n",
       "      <th>0</th>\n",
       "      <td>3310.0</td>\n",
       "      <td>620.10</td>\n",
       "      <td>11.566667</td>\n",
       "      <td>3</td>\n",
       "      <td>17</td>\n",
       "      <td>12</td>\n",
       "      <td>10</td>\n",
       "      <td>0</td>\n",
       "      <td>0</td>\n",
       "      <td>0</td>\n",
       "      <td>1</td>\n",
       "      <td>0</td>\n",
       "    </tr>\n",
       "    <tr>\n",
       "      <th>1</th>\n",
       "      <td>3438.0</td>\n",
       "      <td>1301.10</td>\n",
       "      <td>16.083333</td>\n",
       "      <td>3</td>\n",
       "      <td>55</td>\n",
       "      <td>12</td>\n",
       "      <td>6</td>\n",
       "      <td>0</td>\n",
       "      <td>0</td>\n",
       "      <td>0</td>\n",
       "      <td>1</td>\n",
       "      <td>3</td>\n",
       "    </tr>\n",
       "    <tr>\n",
       "      <th>2</th>\n",
       "      <td>2335.0</td>\n",
       "      <td>537.20</td>\n",
       "      <td>13.933333</td>\n",
       "      <td>2</td>\n",
       "      <td>58</td>\n",
       "      <td>12</td>\n",
       "      <td>4</td>\n",
       "      <td>0</td>\n",
       "      <td>0</td>\n",
       "      <td>0</td>\n",
       "      <td>1</td>\n",
       "      <td>0</td>\n",
       "    </tr>\n",
       "    <tr>\n",
       "      <th>3</th>\n",
       "      <td>1689.0</td>\n",
       "      <td>567.00</td>\n",
       "      <td>8.433333</td>\n",
       "      <td>2</td>\n",
       "      <td>33</td>\n",
       "      <td>12</td>\n",
       "      <td>3</td>\n",
       "      <td>0</td>\n",
       "      <td>0</td>\n",
       "      <td>0</td>\n",
       "      <td>1</td>\n",
       "      <td>1</td>\n",
       "    </tr>\n",
       "    <tr>\n",
       "      <th>4</th>\n",
       "      <td>2556.0</td>\n",
       "      <td>866.71</td>\n",
       "      <td>14.550000</td>\n",
       "      <td>3</td>\n",
       "      <td>53</td>\n",
       "      <td>12</td>\n",
       "      <td>14</td>\n",
       "      <td>0</td>\n",
       "      <td>0</td>\n",
       "      <td>0</td>\n",
       "      <td>1</td>\n",
       "      <td>0</td>\n",
       "    </tr>\n",
       "  </tbody>\n",
       "</table>\n",
       "</div>"
      ],
      "text/plain": [
       "   totalTravelDistance  totalFare  travelDurationHours  numSegments  \\\n",
       "0               3310.0     620.10            11.566667            3   \n",
       "1               3438.0    1301.10            16.083333            3   \n",
       "2               2335.0     537.20            13.933333            2   \n",
       "3               1689.0     567.00             8.433333            2   \n",
       "4               2556.0     866.71            14.550000            3   \n",
       "\n",
       "   daysUntilDeparture  startingAirport_encoded  destinationAirport_encoded  \\\n",
       "0                  17                       12                          10   \n",
       "1                  55                       12                           6   \n",
       "2                  58                       12                           4   \n",
       "3                  33                       12                           3   \n",
       "4                  53                       12                          14   \n",
       "\n",
       "   isNonStop_encoded  isBasicEconomy_encoded  isRefundable_encoded  \\\n",
       "0                  0                       0                     0   \n",
       "1                  0                       0                     0   \n",
       "2                  0                       0                     0   \n",
       "3                  0                       0                     0   \n",
       "4                  0                       0                     0   \n",
       "\n",
       "   cabinType_encoded  timeBlock_encoded  \n",
       "0                  1                  0  \n",
       "1                  1                  3  \n",
       "2                  1                  0  \n",
       "3                  1                  1  \n",
       "4                  1                  0  "
      ]
     },
     "execution_count": 4,
     "metadata": {},
     "output_type": "execute_result"
    }
   ],
   "source": [
    "df.head()"
   ]
  },
  {
   "cell_type": "code",
   "execution_count": 5,
   "id": "eea749cc",
   "metadata": {},
   "outputs": [],
   "source": [
    "df_cleaned = df.copy()"
   ]
  },
  {
   "cell_type": "code",
   "execution_count": 6,
   "id": "bbb68069",
   "metadata": {},
   "outputs": [],
   "source": [
    "from my_krml_25076922.data.sets import pop_target, split_sets_random\n",
    "\n",
    "features, target = pop_target(df_cleaned, target_col='totalFare')\n",
    "X_train, y_train, X_val, y_val, X_test, y_test = split_sets_random(features, target, test_ratio=0.2)"
   ]
  },
  {
   "cell_type": "code",
   "execution_count": 7,
   "id": "b5b1a2d4",
   "metadata": {},
   "outputs": [],
   "source": [
    "from my_krml_25076922.data.sets import save_sets\n",
    "\n",
    "save_sets(X_train, y_train, X_val, y_val, X_test, y_test, path='/Users/vega7unk/Documents/3rd_Sem_DSI/Adv_ML/AT3/at_3/adv_mla_at3/data/processed/LGBM/')"
   ]
  },
  {
   "cell_type": "code",
   "execution_count": 8,
   "id": "9e591d33",
   "metadata": {},
   "outputs": [],
   "source": [
    "import lightgbm as lgb\n",
    "\n",
    "clf = lgb.LGBMRegressor()"
   ]
  },
  {
   "cell_type": "code",
   "execution_count": 9,
   "id": "88ee9a9b",
   "metadata": {},
   "outputs": [
    {
     "name": "stdout",
     "output_type": "stream",
     "text": [
      "RMSE Training: 118.59187622104542\n",
      "MAE Training: 81.54180533281057\n",
      "RMSE Validation: 144.8007083767154\n",
      "MAE Validation: 92.5681099797254\n"
     ]
    }
   ],
   "source": [
    "from my_krml_25076922.models.performance import fit_assess_regressor\n",
    "\n",
    "light_gbm = fit_assess_regressor(clf, X_train, y_train, X_val, y_val)"
   ]
  },
  {
   "cell_type": "code",
   "execution_count": 10,
   "id": "6081c4e7",
   "metadata": {},
   "outputs": [
    {
     "data": {
      "text/plain": [
       "['/Users/vega7unk/Documents/3rd_Sem_DSI/Adv_ML/AT3/at_3/adv_mla_at3/models/lightgbm_default.joblib']"
      ]
     },
     "execution_count": 10,
     "metadata": {},
     "output_type": "execute_result"
    }
   ],
   "source": [
    "from joblib import dump\n",
    "\n",
    "dump(light_gbm,  '/Users/vega7unk/Documents/3rd_Sem_DSI/Adv_ML/AT3/at_3/adv_mla_at3/models/lightgbm_default.joblib')"
   ]
  },
  {
   "cell_type": "code",
   "execution_count": 11,
   "id": "e7a59ff9",
   "metadata": {},
   "outputs": [
    {
     "name": "stdout",
     "output_type": "stream",
     "text": [
      "RMSE Training: 107.70152422420587\n",
      "MAE Training: 73.60738921111296\n",
      "RMSE Validation: 142.55051265085862\n",
      "MAE Validation: 89.98830053588189\n"
     ]
    }
   ],
   "source": [
    "lightgbm1 = fit_assess_regressor(lgb.LGBMRegressor(n_estimators=200), X_train, y_train, X_val, y_val)"
   ]
  },
  {
   "cell_type": "code",
   "execution_count": 12,
   "id": "01475efe",
   "metadata": {},
   "outputs": [
    {
     "name": "stdout",
     "output_type": "stream",
     "text": [
      "RMSE Training: 128.2336401587452\n",
      "MAE Training: 88.24783394341\n",
      "RMSE Validation: 147.83204013212173\n",
      "MAE Validation: 95.51387738303413\n"
     ]
    }
   ],
   "source": [
    "lightgbm2 = fit_assess_regressor(lgb.LGBMRegressor(n_estimators=50), X_train, y_train, X_val, y_val)"
   ]
  },
  {
   "cell_type": "code",
   "execution_count": 13,
   "id": "5ee72b0d",
   "metadata": {},
   "outputs": [
    {
     "name": "stdout",
     "output_type": "stream",
     "text": [
      "RMSE Training: 122.7435953228103\n",
      "MAE Training: 84.44172276096828\n",
      "RMSE Validation: 145.96723937010913\n",
      "MAE Validation: 93.7796595153535\n"
     ]
    }
   ],
   "source": [
    "lightgbm3 = fit_assess_regressor(lgb.LGBMRegressor(n_estimators=75), X_train, y_train, X_val, y_val)"
   ]
  },
  {
   "cell_type": "code",
   "execution_count": 14,
   "id": "a2f6197a",
   "metadata": {},
   "outputs": [
    {
     "name": "stdout",
     "output_type": "stream",
     "text": [
      "RMSE Training: 121.33503765573231\n",
      "MAE Training: 83.23514929902247\n",
      "RMSE Validation: 145.3614997147418\n",
      "MAE Validation: 93.2124569871433\n"
     ]
    }
   ],
   "source": [
    "lightgbm4 = fit_assess_regressor(lgb.LGBMRegressor(n_estimators=50, num_leaves=50), X_train, y_train, X_val, y_val)"
   ]
  },
  {
   "cell_type": "code",
   "execution_count": 15,
   "id": "0b28b316",
   "metadata": {},
   "outputs": [
    {
     "name": "stdout",
     "output_type": "stream",
     "text": [
      "RMSE Training: 115.58884853048643\n",
      "MAE Training: 79.03834011141278\n",
      "RMSE Validation: 143.60879621270627\n",
      "MAE Validation: 91.57556749436856\n"
     ]
    }
   ],
   "source": [
    "lightgbm5 = fit_assess_regressor(lgb.LGBMRegressor(n_estimators=75, num_leaves=50, max_depth=12), X_train, y_train, X_val, y_val)"
   ]
  },
  {
   "cell_type": "code",
   "execution_count": 16,
   "id": "6fb76815",
   "metadata": {},
   "outputs": [
    {
     "name": "stdout",
     "output_type": "stream",
     "text": [
      "Model saved as 'lightgbm_sales_model.pkl'\n"
     ]
    }
   ],
   "source": [
    "import joblib\n",
    "\n",
    "joblib.dump(lightgbm5, '/Users/vega7unk/Documents/3rd_Sem_DSI/Adv_ML/AT3/at_3/adv_mla_at3/models/lightgbm_model.pkl')\n",
    "print(\"Model saved as 'lightgbm_sales_model.pkl'\")"
   ]
  },
  {
   "cell_type": "code",
   "execution_count": null,
   "id": "7de17326",
   "metadata": {},
   "outputs": [],
   "source": []
  }
 ],
 "metadata": {
  "kernelspec": {
   "display_name": "Python 3 (ipykernel)",
   "language": "python",
   "name": "python3"
  },
  "language_info": {
   "codemirror_mode": {
    "name": "ipython",
    "version": 3
   },
   "file_extension": ".py",
   "mimetype": "text/x-python",
   "name": "python",
   "nbconvert_exporter": "python",
   "pygments_lexer": "ipython3",
   "version": "3.11.3"
  }
 },
 "nbformat": 4,
 "nbformat_minor": 5
}
